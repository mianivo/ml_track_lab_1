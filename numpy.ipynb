{
 "cells": [
  {
   "cell_type": "markdown",
   "metadata": {
    "id": "vC84e9kzyxPy"
   },
   "source": [
    "<h1>Импорт библиотек"
   ]
  },
  {
   "cell_type": "code",
   "execution_count": 2,
   "metadata": {
    "id": "cgKeNegmQG5S"
   },
   "outputs": [],
   "source": [
    "import numpy as np\n",
    "import matplotlib.pyplot as plt\n",
    "import matplotlib"
   ]
  },
  {
   "cell_type": "markdown",
   "metadata": {
    "id": "qFM9uVU2x4Ls"
   },
   "source": [
    "<h1>Задача 1. Дан набор из $p$ матриц размерностью $(n, n)$ и $p$ векторов размерностью $(n, 1)$, найти сумму произведений матриц на векторы. Написать тесты для кода"
   ]
  },
  {
   "cell_type": "code",
   "execution_count": 3,
   "metadata": {
    "id": "KQDNMgsjRNH7"
   },
   "outputs": [
    {
     "data": {
      "text/plain": [
       "[array([[14],\n",
       "        [32],\n",
       "        [50]]),\n",
       " array([[6],\n",
       "        [6],\n",
       "        [6]])]"
      ]
     },
     "execution_count": 3,
     "metadata": {},
     "output_type": "execute_result"
    }
   ],
   "source": [
    "def sum_prod(X, V):\n",
    "    '''\n",
    "    X - матрицы (n, n)\n",
    "    V - векторы (n, 1)\n",
    "    Гарантируется, что len(X) == len(V)\n",
    "    '''\n",
    "    return [np.matmul(m, v) for m, v in zip(X, V)]\n",
    "\n",
    "x1 = np.array([[1, 2, 3], [4, 5, 6],[7, 8, 9]])\n",
    "x2 = np.array([[1, 1, 1], [1, 1, 1],[1, 1, 1]])\n",
    " \n",
    "v1 = np.array([[1, 2, 3]]).reshape(3, 1)\n",
    "v2 = np.array([[2, 2, 2]]).reshape(3, 1)\n",
    "sum_prod([x1, x2], [v1, v2])"
   ]
  },
  {
   "cell_type": "markdown",
   "metadata": {
    "id": "TKwPG4fIy2w4"
   },
   "source": [
    "<h1>Задача 2. Дана матрица M, напишите функцию, которая бинаризует матрицу по некоторому threshold (то есть, все значения большие threshold становятся равными 1, иначе 0). Напишите тесты для кода"
   ]
  },
  {
   "cell_type": "code",
   "execution_count": 4,
   "metadata": {
    "id": "KQDNMgsjRNH7"
   },
   "outputs": [
    {
     "data": {
      "text/plain": [
       "array([[0, 0, 0],\n",
       "       [0, 1, 1],\n",
       "       [1, 1, 1]])"
      ]
     },
     "execution_count": 4,
     "metadata": {},
     "output_type": "execute_result"
    }
   ],
   "source": [
    "def binarize(M, threshold=0.5):\n",
    "    boolean_matrix = M >= threshold\n",
    "    return np.where(boolean_matrix, 1, 0)\n",
    "\n",
    "m = np.array([[1, 2, 3], [4, 5, 6],[7, 8, 9]])\n",
    "binarize(m, threshold=5)"
   ]
  },
  {
   "cell_type": "markdown",
   "metadata": {
    "id": "IY5L-h-7zWhN"
   },
   "source": [
    "<h1>Задача 3. Напишите функцию, которая возвращает уникальные элементы из каждой строки матрицы. Напишите такую же функцию, но для столбцов. Напишите тесты для кода"
   ]
  },
  {
   "cell_type": "code",
   "execution_count": 5,
   "metadata": {
    "id": "-8dEZhR0SBC-"
   },
   "outputs": [
    {
     "name": "stdout",
     "output_type": "stream",
     "text": [
      "[[1, 2, 3], [4, 5, 6], [8, 9, 7], [0]]\n",
      "[[1], [1], [1]]\n",
      "\n",
      "[[1 2 3]\n",
      " [4 5 6]\n",
      " [7 8 9]\n",
      " [0 0 0]]\n",
      "4 3\n",
      "[[1, 2, 3], [4, 5, 6], [8, 9, 7], [0]]\n",
      "[[1 1 1]\n",
      " [1 1 1]\n",
      " [1 1 1]]\n",
      "3 3\n",
      "[[1], [1], [1]]\n"
     ]
    }
   ],
   "source": [
    "def unique_rows(mat):\n",
    "    answer = []\n",
    "    for row in mat:\n",
    "        answer.append(list(set(row)))\n",
    "    return answer\n",
    "\n",
    "def unique_columns(mat):\n",
    "    x, y = np.shape(mat)\n",
    "    print(mat)\n",
    "    print(x, y)\n",
    "    answer_sets = [set() for _ in range(x)]\n",
    "    for col in range(x):\n",
    "        for row in range(y):\n",
    "            answer_sets[col].add(mat[col, row])\n",
    "    return [list(col) for col in answer_sets]\n",
    "\n",
    "x1 = np.array([[1, 2, 3], [4, 5, 6],[7, 8, 9], [0, 0, 0]])\n",
    "x2 = np.array([[1, 1, 1], [1, 1, 1],[1, 1, 1]])\n",
    "print(unique_rows(x1))\n",
    "print(unique_rows(x2))\n",
    "print()\n",
    "print(unique_columns(x1))\n",
    "print(unique_columns(x2))"
   ]
  },
  {
   "cell_type": "markdown",
   "metadata": {
    "id": "roYAlo4Jz-lH"
   },
   "source": [
    "<h1>Задача 4. Напишите функцию, которая заполняет матрицу с размерами $(m, n)$ случайными числами, распределенными по нормальному закону. Затем считает мат. ожидание и дисперсию для каждого из столбцов и строк, а также строит для каждой строки и столбца гистограмму значений (использовать функцию hist из модуля matplotlib.plot)"
   ]
  },
  {
   "cell_type": "code",
   "execution_count": 6,
   "metadata": {
    "id": "nZK_71hMSQzv"
   },
   "outputs": [
    {
     "data": {
      "image/png": "[encoded data removed]",
      "text/plain": [
       "<Figure size 640x480 with 1 Axes>"
      ]
     },
     "metadata": {},
     "output_type": "display_data"
    }
   ],
   "source": [
    "def magic(m, n):\n",
    "    random_values = np.random.randn(m, n)\n",
    "    rows_means = [row.mean() for row in random_values]\n",
    "    rows_vars = [np.var(row) for row in random_values]\n",
    "    cols_means = [col.mean() for col in random_values.transpose()]\n",
    "    cols_vars = [col.mean() for col in random_values.transpose()]\n",
    "\n",
    "    plt.hist(rows_means)\n",
    "    plt.hist(rows_vars)\n",
    "    plt.hist(cols_means)\n",
    "    plt.hist(cols_vars)\n",
    "\n",
    "magic(3, 3)"
   ]
  },
  {
   "cell_type": "markdown",
   "metadata": {
    "id": "BDyATNdM0dJ2"
   },
   "source": [
    "<h1>Задача 5. Напишите функцию, которая заполняет матрицу $(m, n)$ в шахматном порядке заданными числами $a$ и $b$. Напишите тесты для кода"
   ]
  },
  {
   "cell_type": "code",
   "execution_count": 7,
   "metadata": {
    "id": "RWNJYWQGecS6"
   },
   "outputs": [
    {
     "name": "stdout",
     "output_type": "stream",
     "text": [
      "[[1 0 1 0 1 0 1 0 1 0]\n",
      " [0 1 0 1 0 1 0 1 0 1]\n",
      " [1 0 1 0 1 0 1 0 1 0]\n",
      " [0 1 0 1 0 1 0 1 0 1]\n",
      " [1 0 1 0 1 0 1 0 1 0]\n",
      " [0 1 0 1 0 1 0 1 0 1]\n",
      " [1 0 1 0 1 0 1 0 1 0]\n",
      " [0 1 0 1 0 1 0 1 0 1]\n",
      " [1 0 1 0 1 0 1 0 1 0]\n",
      " [0 1 0 1 0 1 0 1 0 1]]\n"
     ]
    }
   ],
   "source": [
    "def chess(m, n, a, b):\n",
    "    return np.array([[(a if ((col + row) % 2 == 0) else b) for col in range(n)] for row in range(m)])\n",
    "\n",
    "print(chess(10, 10, 1, 0))"
   ]
  },
  {
   "cell_type": "markdown",
   "metadata": {
    "id": "-ymXLtTN0vB6"
   },
   "source": [
    "<h1>Задача 6. Напишите функцию, которая отрисовывает прямоугольник с заданными размерами (a, b) на изображении размера (m, n), цвет фона задайте в схеме RGB, как и цвет прямоугольника. Цвета также должны быть параметрами функции. Напишите аналогичную функцию но для овала с полуосями a и b. Напишите тесты для кода.\n",
    "Примечание: уравнение эллипса (границы овала) можно записать как:\n",
    "<h1>$\\frac{(x-x_0)^2}{a^2}+\\frac{(y-y_0)^2}{b^2}=1$"
   ]
  },
  {
   "cell_type": "code",
   "execution_count": 8,
   "metadata": {
    "id": "sNfl1t_kfOF4"
   },
   "outputs": [
    {
     "data": {
      "image/png": "[encoded data removed]",
      "text/plain": [
       "<Figure size 640x480 with 1 Axes>"
      ]
     },
     "metadata": {},
     "output_type": "display_data"
    },
    {
     "data": {
      "image/png": "[encoded data removed]",
      "text/plain": [
       "<Figure size 640x480 with 1 Axes>"
      ]
     },
     "metadata": {},
     "output_type": "display_data"
    }
   ],
   "source": [
    "def draw_rectangle(a, b, m, n, rectangle_color, background_color):\n",
    "    fig, ax = plt.subplots()\n",
    "    plt.xlim([0, m])\n",
    "    plt.ylim([0, n])\n",
    "    ax.set_facecolor(background_color)\n",
    "    rect = matplotlib.patches.Rectangle((0, 0), a, b, color=rectangle_color)\n",
    "    ax.add_patch(rect)\n",
    "    \n",
    "    plt.show()\n",
    "\n",
    "def draw_ellipse(a, b, m, n, ellipse_color, background_color):\n",
    "    fig, ax = plt.subplots()\n",
    "    plt.xlim([0, m])\n",
    "    plt.ylim([0, n])\n",
    "    ax.set_facecolor(background_color)\n",
    "    ellipse = matplotlib.patches.Ellipse(xy=(m // 2, n // 2), width=a, height=b)\n",
    "    ax.add_patch(ellipse)\n",
    "    \n",
    "    plt.show()\n",
    "\n",
    "\n",
    "draw_rectangle(1,5,6,6,\"#FF0000\", \"#AAAAAA\")  \n",
    "draw_ellipse(5,5,6,6,\"#00FF00\", \"#AAAAAA\")"
   ]
  },
  {
   "cell_type": "markdown",
   "metadata": {
    "id": "S82c38oz244H"
   },
   "source": [
    "<h1>Задача 7. Дан некий временной ряд. Для данного ряда нужно найти его: математическое ожидание, дисперсию, СКО, найти все локальные максимумы и минимумы (локальный максимум - это точка, которая больше своих соседних точек, а локальный минимум - это точка, которая меньше своих соседей), а также вычислить для данного ряда другой ряд, получаемый методом скользящего среднего с размером окна $p$.\n",
    "<h1>Примечание: метод скользящего среднего подразумевает нахождение среднего из подмножетсва ряда размером $p$"
   ]
  },
  {
   "cell_type": "code",
   "execution_count": 10,
   "metadata": {
    "id": "Zb9mIVge5MMt"
   },
   "outputs": [
    {
     "name": "stdout",
     "output_type": "stream",
     "text": [
      "среднее 3.090909090909091\n",
      "дисперсия 5.173553719008264\n",
      "СКО 2.2745447278539643\n",
      "минимумы [1, 1]\n",
      "максимумы [4, 9]\n",
      "новый ряд [1.0, 2.5, 2.0, 2.0, 2.2, 2.8, 3.0, 4.6, 4.6, 4.2, 3.8]\n"
     ]
    }
   ],
   "source": [
    "def magic(time_row, window_width=5):\n",
    "    time_row = np.array(time_row)\n",
    "    mean = time_row.mean()\n",
    "    var = time_row.var()\n",
    "    std = np.std(time_row)\n",
    "    local_mins = []\n",
    "    local_maxs = []\n",
    "\n",
    "    for i in range(1, len(time_row) - 1):  # не очень ясно, как учитывать крайние точки.\n",
    "        if time_row[i - 1] > time_row[i] and  time_row[i + 1] > time_row[i]:\n",
    "            local_mins.append(time_row[i])\n",
    "        elif time_row[i - 1] < time_row[i] and  time_row[i + 1] < time_row[i]:\n",
    "            local_maxs.append(time_row[i])\n",
    "    new_row = []\n",
    "    window = []\n",
    "    window_sum = 0\n",
    "    for el in time_row:\n",
    "        window.append(el)\n",
    "        window_sum += el\n",
    "        if len(window) > window_width:\n",
    "            deleted_el = window.pop(0)\n",
    "            window_sum -= deleted_el\n",
    "        new_row.append(window_sum / len(window))\n",
    "\n",
    "    print(\"среднее\", mean)\n",
    "    print(\"дисперсия\", var)\n",
    "    print(\"СКО\", std)\n",
    "    print(\"минимумы\", local_mins)\n",
    "    print(\"максимумы\", local_maxs)\n",
    "    print(\"новый ряд\", new_row)\n",
    "        \n",
    "magic([1,4,1,2,3,4,5,9,2,1,2])"
   ]
  },
  {
   "cell_type": "markdown",
   "metadata": {
    "id": "jPkylmOX5O9n"
   },
   "source": [
    "<h1> Задача 8. Дан некоторый вектор с целочисленными метками классов, напишите функцию, которая выполняет one-hot-encoding для данного вектора\n",
    "<h1> One-hot-encoding - представление, в котором на месте метки некоторого класса стоит 1, в остальных позициях стоит 0. Например для вектора [0, 2, 3, 0] one-hot-encoding выглядит как: [[1, 0, 0, 0], [0, 0, 1, 0], [0, 0, 0, 1], [1, 0, 0, 0]]"
   ]
  },
  {
   "cell_type": "code",
   "execution_count": 10,
   "metadata": {
    "id": "Y-jlnZvw56lD"
   },
   "outputs": [
    {
     "data": {
      "text/plain": [
       "array([[1., 0., 0., 0.],\n",
       "       [0., 0., 1., 0.],\n",
       "       [0., 0., 0., 1.],\n",
       "       [1., 0., 0., 0.]])"
      ]
     },
     "execution_count": 10,
     "metadata": {},
     "output_type": "execute_result"
    }
   ],
   "source": [
    "def magic(array):\n",
    "    array = np.array(array)\n",
    "    max_el = array.max() + 1\n",
    "    answer_array = np.zeros(array.size * max_el).reshape(array.size, max_el)\n",
    "    for k, el in enumerate(array):\n",
    "        answer_array[k, el] = 1\n",
    "    return answer_array\n",
    "\n",
    "magic([0, 2, 3, 0])"
   ]
  },
  {
   "cell_type": "code",
   "execution_count": null,
   "metadata": {},
   "outputs": [],
   "source": []
  },
  {
   "cell_type": "code",
   "execution_count": null,
   "metadata": {},
   "outputs": [],
   "source": []
  }
 ],
 "metadata": {
  "colab": {
   "provenance": []
  },
  "kernelspec": {
   "display_name": "Python 3 (ipykernel)",
   "language": "python",
   "name": "python3"
  },
  "language_info": {
   "codemirror_mode": {
    "name": "ipython",
    "version": 3
   },
   "file_extension": ".py",
   "mimetype": "text/x-python",
   "name": "python",
   "nbconvert_exporter": "python",
   "pygments_lexer": "ipython3",
   "version": "3.10.12"
  }
 },
 "nbformat": 4,
 "nbformat_minor": 4
}
