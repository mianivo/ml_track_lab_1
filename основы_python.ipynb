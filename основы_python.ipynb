{
 "cells": [
  {
   "cell_type": "markdown",
   "metadata": {
    "id": "M-DGa20PaHnu"
   },
   "source": [
    "#Задача 1\n",
    "Написать функцию на вход которой подается строка, состоящая из латинских букв.\n",
    "Функция должна вернуть количество гласных букв (a, e, i, o, u) в этой строке. Написать тесты для кода"
   ]
  },
  {
   "cell_type": "code",
   "execution_count": 4,
   "metadata": {
    "id": "XvX8X_JJ6PCb"
   },
   "outputs": [
    {
     "name": "stdout",
     "output_type": "stream",
     "text": [
      "5\n",
      "6\n"
     ]
    }
   ],
   "source": [
    "searched_chars = [\"a\", \"e\", \"i\", \"o\", \"u\"]\n",
    "def solution(word: str) -> int:\n",
    "    answer = 0\n",
    "    for c in word:\n",
    "        if c in searched_chars:\n",
    "            answer += 1\n",
    "    return answer\n",
    "\n",
    "print(solution('ababababab')) # 5\n",
    "print(solution(\"o in adventure\")) #6"
   ]
  },
  {
   "cell_type": "markdown",
   "metadata": {
    "id": "t2ClV_Y0bbr6"
   },
   "source": [
    "# Задача 2\n",
    "Написать функцию на вход, которой подается строка. Функция должна вернуть true, если\n",
    "каждый символ в строке встречается только 1 раз, иначе должна вернуть false. Написать тесты для кода"
   ]
  },
  {
   "cell_type": "code",
   "execution_count": 43,
   "metadata": {
    "id": "FppbECao6VIz"
   },
   "outputs": [
    {
     "name": "stdout",
     "output_type": "stream",
     "text": [
      "True\n",
      "False\n"
     ]
    }
   ],
   "source": [
    "def solution_2(word):\n",
    "    return len(word) == len(set(word))\n",
    "\n",
    "print(solution_2(\"1234567890qwerty\")) # True\n",
    "print(solution_2(\"098765WWadsfghjkl\")) # False|"
   ]
  },
  {
   "cell_type": "markdown",
   "metadata": {
    "id": "udRiIK1cdt6E"
   },
   "source": [
    "# Задача 3\n",
    "Написать функцию, которая принимает положительное число и возвращает количество\n",
    "бит равных 1 в этом числе. Написать тесты для кода"
   ]
  },
  {
   "cell_type": "code",
   "execution_count": 16,
   "metadata": {
    "id": "6tkfDJRz6dp_"
   },
   "outputs": [
    {
     "name": "stdout",
     "output_type": "stream",
     "text": [
      "5\n",
      "1\n"
     ]
    }
   ],
   "source": [
    "def solution_3(number):\n",
    "    return bin(number)[2:].count(\"1\")\n",
    "\n",
    "number_1 = int(\"1100111\", 2)\n",
    "print(solution_3(number_1)) # 5\n",
    "print(solution_3(1024)) # 1"
   ]
  },
  {
   "cell_type": "markdown",
   "metadata": {
    "id": "26dDUz-Ae17N"
   },
   "source": [
    "# Задача 4\n",
    "Написать функцию, которая принимает положительное число. Функция должна вернуть то,\n",
    "сколько раз необходимо перемножать цифры числа или результат перемножения, чтобы\n",
    "получилось число состоящее из одной цифры.\n",
    "Например, для входного числа:\n",
    "· 39 функция должна вернуть 3, так как 3*9=27 => 2*7=14 => 1*4=4\n",
    "· 4 функция должна вернуть 0, так как число уже состоит из одной цифры\n",
    "· 999 функция должна вернуть 4, так как 9*9*9=729 => 7*2*9=126 => 1*2*6=12 =>\n",
    "1*2=2. Написать тесты для кода"
   ]
  },
  {
   "cell_type": "code",
   "execution_count": 21,
   "metadata": {
    "id": "BH1A_Mgi6i4G"
   },
   "outputs": [
    {
     "name": "stdout",
     "output_type": "stream",
     "text": [
      "3\n",
      "4\n",
      "1\n"
     ]
    }
   ],
   "source": [
    "def magic(n):\n",
    "    n = str(n)\n",
    "    answer = 0\n",
    "    while len(n) > 1:\n",
    "        n = str(eval(\"*\".join(list(n))))\n",
    "        answer += 1\n",
    "    return answer\n",
    "\n",
    "print(magic(39))\n",
    "print(magic(999))\n",
    "print(magic(1111111111))"
   ]
  },
  {
   "cell_type": "markdown",
   "metadata": {
    "id": "0nS-kIa8g8vd"
   },
   "source": [
    "# Задача 5\n",
    "Написать функцию, которая принимает два целочисленных вектора одинаковой длины и\n",
    "возвращает среднеквадратическое отклонение двух векторов. Написать тесты для кода"
   ]
  },
  {
   "cell_type": "code",
   "execution_count": 24,
   "metadata": {
    "id": "8iphx4LM6xbx"
   },
   "outputs": [
    {
     "name": "stdout",
     "output_type": "stream",
     "text": [
      "0.0\n",
      "8.333333333333334\n"
     ]
    }
   ],
   "source": [
    "def mse(pred, true):\n",
    "    return sum((i - j) ** 2 for i, j in zip(pred, true)) / len(pred)\n",
    "print(mse([1, 2, 3, 4, 5], [1, 2, 3, 4, 5])) # 0\n",
    "print(mse([5, 4, 1], [1, 1, 1]))"
   ]
  },
  {
   "cell_type": "markdown",
   "metadata": {
    "id": "vpIPKL439zkw"
   },
   "source": [
    "# Задача 6\n",
    "Написать функцию, принимающая целое положительное число. Функция должна вернуть\n",
    "строку вида “(n1**p1)(n2**p2)…(nk**pk)” представляющая разложение числа на простые\n",
    "множители (если pi == 1, то выводить только ni).\n",
    "Например, для числа 86240 функция должна вернуть “(2**5)(5)(7**2)(11)”. Написать тесты для кода"
   ]
  },
  {
   "cell_type": "code",
   "execution_count": 32,
   "metadata": {
    "id": "pFebmcZk94Jw"
   },
   "outputs": [
    {
     "name": "stdout",
     "output_type": "stream",
     "text": [
      "(2**5)(5)(7**2)(11)\n",
      "(2**20)\n",
      "(17)(61681)\n"
     ]
    }
   ],
   "source": [
    "def find_one_prime_number(number):\n",
    "    for i in range(2, int(number ** 0.5 + 1)):\n",
    "        if number % i == 0:\n",
    "            return i\n",
    "    return number\n",
    "\n",
    "def magic(number):\n",
    "    prime_dels = {}\n",
    "    while number != 1:\n",
    "        prime_del = find_one_prime_number(number)\n",
    "        if prime_del in prime_dels:\n",
    "            prime_dels[prime_del] += 1\n",
    "        else:\n",
    "            prime_dels[prime_del] = 1\n",
    "        number //= prime_del\n",
    "    pairs = sorted(list(prime_dels.items()))\n",
    "    answer = []\n",
    "    for k, v in pairs:\n",
    "        s = f\"({k}\"\n",
    "        if v > 1:\n",
    "            s += f\"**{v})\"\n",
    "        else:\n",
    "            s += \")\"\n",
    "        answer.append(s)\n",
    "    return ''.join(answer)\n",
    "        \n",
    "print(magic(86240))\n",
    "print(magic(2 ** 20))\n",
    "print(magic(2 ** 20 + 1))"
   ]
  },
  {
   "cell_type": "markdown",
   "metadata": {
    "id": "ps2s0BudX7A2"
   },
   "source": [
    "# Задача 7\n",
    "Написать функцию, принимающая целое число n, задающее количество кубиков. Функция\n",
    "должна определить, можно ли из данного кол-ва кубиков построить пирамиду, то есть\n",
    "можно ли представить число n как 1^2+2^2+3^2+…+k^2. Если можно, то функция должна\n",
    "вернуть k, иначе строку “It is impossible”. Написать тесты для кода"
   ]
  },
  {
   "cell_type": "code",
   "execution_count": 35,
   "metadata": {
    "id": "3YPjEXxhX_YT"
   },
   "outputs": [
    {
     "name": "stdout",
     "output_type": "stream",
     "text": [
      "3\n",
      "It is impossible\n"
     ]
    }
   ],
   "source": [
    "def pyramid(number):\n",
    "    num_now = 0\n",
    "    i = 1\n",
    "    while num_now < number:\n",
    "        num_now += i ** 2\n",
    "        i += 1\n",
    "    if number == num_now:\n",
    "        return i\n",
    "    return \"It is impossible\"\n",
    "\n",
    "print(pyramid(5)) # 3\n",
    "print(pyramid(6)) # Impossible"
   ]
  },
  {
   "cell_type": "markdown",
   "metadata": {
    "id": "KeKgmIdAQMEJ"
   },
   "source": [
    "# Задача 8\n",
    "Функция принимает на вход положительное число и определяет является ли оно сбалансированным, т.е. сумма цифр до средних равна сумме цифр после. Средними в случае нечетного числа цифр считать одну цифру, в случае четного - две средних. Написать тесты для кода"
   ]
  },
  {
   "cell_type": "code",
   "execution_count": 42,
   "metadata": {
    "id": "gMAAqtqlQrZt"
   },
   "outputs": [
    {
     "name": "stdout",
     "output_type": "stream",
     "text": [
      "True\n",
      "True\n",
      "False\n"
     ]
    }
   ],
   "source": [
    "def magic(number):\n",
    "    number = str(number)\n",
    "    num_len = len(number)\n",
    "    mid = num_len // 2\n",
    "    if num_len % 2 == 1:\n",
    "        first, second = number[:mid], number[mid + 1:]\n",
    "    else:\n",
    "        first, second = number[:mid - 1], number[mid + 1:]\n",
    "    return sum([int(i) for i in first]) == sum([int(i) for i in second])\n",
    "\n",
    "print(magic(12321)) # True\n",
    "print(magic(901954)) # True (9 + 0 == 5 + 4)\n",
    "print(magic(347)) # False"
   ]
  },
  {
   "cell_type": "code",
   "execution_count": null,
   "metadata": {},
   "outputs": [],
   "source": []
  }
 ],
 "metadata": {
  "colab": {
   "provenance": []
  },
  "kernelspec": {
   "display_name": "Python 3 (ipykernel)",
   "language": "python",
   "name": "python3"
  },
  "language_info": {
   "codemirror_mode": {
    "name": "ipython",
    "version": 3
   },
   "file_extension": ".py",
   "mimetype": "text/x-python",
   "name": "python",
   "nbconvert_exporter": "python",
   "pygments_lexer": "ipython3",
   "version": "3.10.12"
  }
 },
 "nbformat": 4,
 "nbformat_minor": 4
}
